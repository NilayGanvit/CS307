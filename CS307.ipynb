{
 "cells": [
  {
   "cell_type": "code",
   "execution_count": 2,
   "metadata": {},
   "outputs": [
    {
     "name": "stdout",
     "output_type": "stream",
     "text": [
      "abcd\n"
     ]
    }
   ],
   "source": [
    "# May God Give Us Strength!"
   ]
  },
  {
   "cell_type": "code",
   "execution_count": 3,
   "metadata": {},
   "outputs": [],
   "source": [
    "import numpy as np\n",
    "import pandas as pd"
   ]
  },
  {
   "cell_type": "code",
   "execution_count": null,
   "metadata": {},
   "outputs": [],
   "source": [
    "# Indices\n",
    "# customers: int = c\n",
    "# chemicals: int = i, j\n",
    "# equipment_units: int = k\n",
    "# production_plants: int = m, n\n",
    "# production_stages: int = p, q\n",
    "# raw_material_suppliers: int = s"
   ]
  },
  {
   "cell_type": "code",
   "execution_count": null,
   "metadata": {},
   "outputs": [],
   "source": [
    "# For an existing network\n",
    "\n",
    "production_plants: int = 2\n",
    "additional_plants: int = 1\n",
    "max_stages: int = 3"
   ]
  },
  {
   "cell_type": "code",
   "execution_count": 4,
   "metadata": {},
   "outputs": [],
   "source": [
    "# Sets\n",
    "\n",
    "# set of stages at plant m\n",
    "P = []\n",
    "\n",
    "# set of chemicals fed into stage p of plant m\n",
    "I_FED = [[{}, {}, {}], [{}, {}, {}]]\n",
    "\n",
    "# set of chemicals produced in stage p at plant m\n",
    "I_PRO = [[{}, {}, {}], [{}, {}, {}]]\n",
    "\n",
    "# set of chemicals that can be transported from plant m to plant n\n",
    "I_PTP = [[{}, {}], [{}, {}]]\n",
    "\n",
    "# set of chemicals produced at plant m that can be sold to customer c\n",
    "I_SAL = [[{}, {}, {}], [{}, {}, {}]]\n",
    "\n",
    "# set of chemicals that unit k in stage p at plant m can produce or can be set up to produce\n",
    "I_SU = [[[{}, {}, {}, {}, {}], [{}, {}, {}, {}, {}], [{}, {}, {}, {}, {}]], [[{}, {}, {}, {}, {}], [{}, {}, {}, {}, {}], [{}, {}, {}, {}, {}]]]\n",
    "\n",
    "# set of chemicals that can be purchased from supplier s for plant m\n",
    "I_SUP = [[{}, {}, {}], [{}, {}, {}]]\n",
    "\n",
    "# set of units in stage p at plant m\n",
    "K = [[{}, {}, {}], [{}, {}, {}]]\n",
    "\n",
    "# set of plants that can be added to the existing network\n",
    "M = {3, 4}\n"
   ]
  },
  {
   "cell_type": "code",
   "execution_count": null,
   "metadata": {},
   "outputs": [],
   "source": [
    "# Parameters\n",
    "CF =\n",
    "CIUP =\n",
    "CIUP_bar =\n",
    "CIUP_T =\n",
    "CLO =\n",
    "CIUP=\n",
    "CUP_bar =\n",
    "CIUP_T =\n",
    "D =\n",
    "DIS_PTP =\n",
    "DIS_SAL =\n",
    "DIS_SUP =\n",
    "EF_EC =\n",
    "EF_PRO =\n",
    "EF_SUP =\n",
    "EF_TRPTP =\n",
    "EF_TRSAL =\n",
    "EF_TRSUP =\n",
    "EF_WT =\n",
    "FCO_CI =\n",
    "FCO_CI_Bar =\n",
    "FCO_CIT =\n",
    "FCO_INV =\n",
    "FCO_PRO =\n",
    "FCO_SU =\n",
    "FCO_WT =\n",
    "FUP_SAL =\n",
    "FUP_SUP =\n",
    "GHG_CON =\n",
    "R =\n",
    "TT_PTP =\n",
    "TT_SAL =\n",
    "TT_SUP =\n",
    "UCO_CI =\n",
    "UCO_CI_Bar =\n",
    "UCO_CIT =\n",
    "UCO_PRO =\n",
    "UCO_SUP =\n",
    "UCO_TRPTP =\n",
    "UCO_TRSAL =\n",
    "UCO_TRSUP =\n",
    "UCO_WT =\n",
    "UEC =\n"
   ]
  },
  {
   "cell_type": "code",
   "execution_count": null,
   "metadata": {},
   "outputs": [],
   "source": [
    "#Continous variables\n",
    "CI =\n",
    "CI_Bar =\n",
    "CIUP_T =\n",
    "FED =\n",
    "PRO_bar =\n",
    "PTP_bar =\n",
    "PTP_IN =\n",
    "PTP_OUT =\n",
    "SAL =\n",
    "SAL_Bar =\n",
    "SUP =\n",
    "SUP_Bar =\n",
    "TCO =\n",
    "TGHG =\n",
    "TLT ="
   ]
  },
  {
   "cell_type": "code",
   "execution_count": null,
   "metadata": {},
   "outputs": [],
   "source": [
    "# Binary Variables\n",
    "Y =\n",
    "Y_Bar =\n",
    "Y_CI =\n",
    "Y_CI_Bar =\n",
    "Y_CIT =\n",
    "Y_PTP =\n",
    "Y_SAL =\n",
    "Y_SUP ="
   ]
  }
 ],
 "metadata": {
  "kernelspec": {
   "display_name": "Python 3.9.6 64-bit",
   "language": "python",
   "name": "python3"
  },
  "language_info": {
   "codemirror_mode": {
    "name": "ipython",
    "version": 3
   },
   "file_extension": ".py",
   "mimetype": "text/x-python",
   "name": "python",
   "nbconvert_exporter": "python",
   "pygments_lexer": "ipython3",
   "version": "3.9.6"
  },
  "orig_nbformat": 4,
  "vscode": {
   "interpreter": {
    "hash": "000a168c2dcdc4e00eb73b266712cb3658dc6d0b0dc2d93a933def62a5723105"
   }
  }
 },
 "nbformat": 4,
 "nbformat_minor": 2
}
