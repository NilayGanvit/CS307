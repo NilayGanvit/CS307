{
 "cells": [
  {
   "cell_type": "code",
   "execution_count": 13,
   "metadata": {},
   "outputs": [],
   "source": [
    "import numpy as np"
   ]
  },
  {
   "cell_type": "markdown",
   "metadata": {},
   "source": [
    "Min -4x1 -2x2\n",
    "sub to  x1 + x2 +x3 = 5\n",
    "        2x1 + 0.5x2 +x4 = 8\n",
    "        x>=0\n",
    "start with B={3,4}"
   ]
  },
  {
   "cell_type": "code",
   "execution_count": 14,
   "metadata": {},
   "outputs": [],
   "source": [
    "# #tut1\n",
    "# c = [2, 9, 3, 0,0]\n",
    "# A = [\n",
    "#     [2, 2, 1, -1,0],\n",
    "#     [ 1, 4, -1, 0,-1]\n",
    "# ]\n",
    "# b = [2, 5]"
   ]
  },
  {
   "cell_type": "code",
   "execution_count": 15,
   "metadata": {},
   "outputs": [],
   "source": [
    "#lab7\n",
    "c = [-4, -2, 0, 0]\n",
    "A = [\n",
    "    [1, 1, 1, 0],\n",
    "    [ 2, 0.5, 0, 1]\n",
    "]\n",
    "b = [5, 8]"
   ]
  },
  {
   "cell_type": "code",
   "execution_count": 16,
   "metadata": {},
   "outputs": [],
   "source": [
    "def to_tableau(c, A, b):\n",
    "    xb = [eq + [x] for eq, x in zip(A, b)]\n",
    "    z = c + [0]\n",
    "    return xb + [z]"
   ]
  },
  {
   "cell_type": "code",
   "execution_count": 17,
   "metadata": {},
   "outputs": [],
   "source": [
    "def can_be_improved(tableau):\n",
    "    z = tableau[-1]\n",
    "    return any(x > 0 for x in z[:-1])"
   ]
  },
  {
   "cell_type": "code",
   "execution_count": 18,
   "metadata": {},
   "outputs": [],
   "source": [
    "import math\n",
    "\n",
    "def get_pivot_position(tableau):\n",
    "    z = tableau[-1]\n",
    "    column = next(i for i, x in enumerate(z[:-1]) if x > 0)\n",
    "\n",
    "    restrictions = []\n",
    "    for eq in tableau[:-1]:\n",
    "        el = eq[column]\n",
    "        restrictions.append(math.inf if el <= 0 else eq[-1] / el)\n",
    "\n",
    "    row = restrictions.index(min(restrictions))\n",
    "    return row, column"
   ]
  },
  {
   "cell_type": "code",
   "execution_count": 19,
   "metadata": {},
   "outputs": [],
   "source": [
    "def pivot_step(tableau, pivot_position):\n",
    "    new_tableau = [[] for eq in tableau]\n",
    "\n",
    "    i, j = pivot_position\n",
    "    pivot_value = tableau[i][j]\n",
    "    new_tableau[i] = np.array(tableau[i]) / pivot_value\n",
    "\n",
    "    for eq_i, eq in enumerate(tableau):\n",
    "        if eq_i != i:\n",
    "            multiplier = np.array(new_tableau[i]) * tableau[eq_i][j]\n",
    "            new_tableau[eq_i] = np.array(tableau[eq_i]) - multiplier\n",
    "\n",
    "    return new_tableau"
   ]
  },
  {
   "cell_type": "code",
   "execution_count": 20,
   "metadata": {},
   "outputs": [],
   "source": [
    "def is_basic(column):\n",
    "    return sum(column) == 1 and len([c for c in column if c == 0]) == len(column) - 1\n",
    "\n",
    "def get_solution(tableau):\n",
    "    columns = np.array(tableau).T\n",
    "    solutions = []\n",
    "    for column in columns[:-1]:\n",
    "        solution = 0\n",
    "        if is_basic(column):\n",
    "            one_index = column.tolist().index(1)\n",
    "            solution = columns[-1][one_index]\n",
    "        solutions.append(solution)\n",
    "    print(solutions)\n",
    "    return solutions"
   ]
  },
  {
   "cell_type": "code",
   "execution_count": 21,
   "metadata": {},
   "outputs": [],
   "source": [
    "def simplex(c, A, b):\n",
    "    tableau = to_tableau(c, A, b)\n",
    "\n",
    "    while can_be_improved(tableau):\n",
    "        pivot_position = get_pivot_position(tableau)\n",
    "        tableau = pivot_step(tableau, pivot_position)\n",
    "\n",
    "    return get_solution(tableau)"
   ]
  },
  {
   "cell_type": "code",
   "execution_count": 22,
   "metadata": {},
   "outputs": [
    {
     "name": "stdout",
     "output_type": "stream",
     "text": [
      "[0, 0, 5.0, 8.0]\n",
      "solution:  [0, 0, 5.0, 8.0]\n"
     ]
    }
   ],
   "source": [
    "solution = simplex(c, A, b)\n",
    "print('solution: ', solution)"
   ]
  }
 ],
 "metadata": {
  "kernelspec": {
   "display_name": "Python 3.9.6 64-bit",
   "language": "python",
   "name": "python3"
  },
  "language_info": {
   "codemirror_mode": {
    "name": "ipython",
    "version": 3
   },
   "file_extension": ".py",
   "mimetype": "text/x-python",
   "name": "python",
   "nbconvert_exporter": "python",
   "pygments_lexer": "ipython3",
   "version": "3.9.6"
  },
  "orig_nbformat": 4,
  "vscode": {
   "interpreter": {
    "hash": "000a168c2dcdc4e00eb73b266712cb3658dc6d0b0dc2d93a933def62a5723105"
   }
  }
 },
 "nbformat": 4,
 "nbformat_minor": 2
}
